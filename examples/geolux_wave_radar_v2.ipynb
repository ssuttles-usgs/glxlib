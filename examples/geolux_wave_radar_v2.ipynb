{
 "cells": [
  {
   "cell_type": "markdown",
   "id": "440ad523",
   "metadata": {},
   "source": [
    "### process Geolux wave radar data into netcdf file and dispay data"
   ]
  },
  {
   "cell_type": "code",
   "execution_count": null,
   "id": "b51ab4c9",
   "metadata": {},
   "outputs": [],
   "source": [
    "import xarray as xr\n",
    "import pandas as pd\n",
    "import numpy as np\n",
    "import hvplot.xarray\n",
    "\n"
   ]
  },
  {
   "cell_type": "code",
   "execution_count": null,
   "id": "819bc8c2",
   "metadata": {},
   "outputs": [],
   "source": [
    "run c:\\users\\ssuttles\\git\\glxlib\\runglxcsv2cdf.py glob_att_Geolux_2022_NC_FieldTest.txt config_Geolux_2022_NC_FieldTest.yaml"
   ]
  },
  {
   "cell_type": "code",
   "execution_count": null,
   "id": "737f27a1",
   "metadata": {},
   "outputs": [],
   "source": [
    "## read in netcdf file"
   ]
  },
  {
   "cell_type": "code",
   "execution_count": null,
   "id": "540e1dfa",
   "metadata": {},
   "outputs": [],
   "source": [
    "basefile=\"Geolux_example\""
   ]
  },
  {
   "cell_type": "code",
   "execution_count": null,
   "id": "4b787911",
   "metadata": {},
   "outputs": [],
   "source": [
    "ds=xr.open_dataset(basefile+\"-raw.cdf\")"
   ]
  },
  {
   "cell_type": "code",
   "execution_count": null,
   "id": "5b4b0e78",
   "metadata": {},
   "outputs": [],
   "source": [
    "ds"
   ]
  },
  {
   "cell_type": "code",
   "execution_count": null,
   "id": "4822ee53",
   "metadata": {},
   "outputs": [],
   "source": [
    "ds[\"Level_10Hz\"].hvplot(padding=0.1)"
   ]
  },
  {
   "cell_type": "code",
   "execution_count": null,
   "id": "18a1404d",
   "metadata": {},
   "outputs": [],
   "source": [
    "ds[\"Level_10Hz\"].isnull().sum() #how many Nans in data"
   ]
  },
  {
   "cell_type": "code",
   "execution_count": null,
   "id": "02f00398",
   "metadata": {},
   "outputs": [],
   "source": [
    "ds[\"Level_10Hz\"].dropna(dim='time')"
   ]
  },
  {
   "cell_type": "code",
   "execution_count": null,
   "id": "be38aa19",
   "metadata": {},
   "outputs": [],
   "source": [
    "ds[\"Distance_10Hz\"].hvplot(padding = 0.1)"
   ]
  },
  {
   "cell_type": "code",
   "execution_count": null,
   "id": "0b855e3f",
   "metadata": {},
   "outputs": [],
   "source": [
    "#find mean distance\n",
    "ds[\"Distance_10Hz\"].mean()"
   ]
  },
  {
   "cell_type": "code",
   "execution_count": null,
   "id": "5ffe9794",
   "metadata": {},
   "outputs": [],
   "source": [
    "ds[\"Level_10Hz\"].mean()"
   ]
  },
  {
   "cell_type": "code",
   "execution_count": null,
   "id": "ae236aa2",
   "metadata": {},
   "outputs": [],
   "source": [
    "ds[\"Distance_10Hz\"].mean()+ds[\"Level_10Hz\"].mean()"
   ]
  },
  {
   "cell_type": "code",
   "execution_count": null,
   "id": "5687e5aa",
   "metadata": {},
   "outputs": [],
   "source": [
    "ds.attrs[\"initial_instrument_height\"]-ds[\"Distance_10Hz\"].mean().values"
   ]
  },
  {
   "cell_type": "code",
   "execution_count": null,
   "id": "4c348540",
   "metadata": {},
   "outputs": [],
   "source": [
    "ds.attrs"
   ]
  },
  {
   "cell_type": "code",
   "execution_count": null,
   "id": "e94eeace",
   "metadata": {},
   "outputs": [],
   "source": [
    "run c:\\users\\ssuttles\\git\\glxlib\\runglxcdf2nc.py Geolux_example-raw.cdf"
   ]
  },
  {
   "cell_type": "markdown",
   "id": "10f740a7",
   "metadata": {},
   "source": [
    "ds=xr.open_Dataset(\"Geolux_example-cont.nc\")"
   ]
  },
  {
   "cell_type": "code",
   "execution_count": null,
   "id": "72c22a72",
   "metadata": {},
   "outputs": [],
   "source": [
    "nc=xr.open_dataset(\"Geolux_example-cont.nc\")"
   ]
  },
  {
   "cell_type": "code",
   "execution_count": null,
   "id": "c18fa53d",
   "metadata": {},
   "outputs": [],
   "source": [
    "nc"
   ]
  },
  {
   "cell_type": "code",
   "execution_count": null,
   "id": "df2d8917",
   "metadata": {},
   "outputs": [],
   "source": [
    "nc[\"water_level\"].hvplot()"
   ]
  },
  {
   "cell_type": "code",
   "execution_count": null,
   "id": "ce68a277",
   "metadata": {},
   "outputs": [],
   "source": [
    "dt=nc[\"time\"][1] - nc[\"time\"][0]"
   ]
  },
  {
   "cell_type": "code",
   "execution_count": null,
   "id": "00ac627d",
   "metadata": {},
   "outputs": [],
   "source": [
    "dt/np.timedelta64(1,'s')"
   ]
  },
  {
   "cell_type": "code",
   "execution_count": null,
   "id": "34f2f9d2",
   "metadata": {},
   "outputs": [],
   "source": []
  }
 ],
 "metadata": {
  "kernelspec": {
   "display_name": "Python 3 (ipykernel)",
   "language": "python",
   "name": "python3"
  },
  "language_info": {
   "codemirror_mode": {
    "name": "ipython",
    "version": 3
   },
   "file_extension": ".py",
   "mimetype": "text/x-python",
   "name": "python",
   "nbconvert_exporter": "python",
   "pygments_lexer": "ipython3",
   "version": "3.10.4"
  }
 },
 "nbformat": 4,
 "nbformat_minor": 5
}
